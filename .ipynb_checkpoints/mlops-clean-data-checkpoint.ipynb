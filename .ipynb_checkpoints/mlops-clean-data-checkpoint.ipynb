{
 "cells": [
  {
   "cell_type": "markdown",
   "id": "e412f3ac",
   "metadata": {},
   "source": [
    "# MLOps using only standard Python"
   ]
  },
  {
   "cell_type": "markdown",
   "id": "a353f7f4",
   "metadata": {},
   "source": [
    "## Configuration"
   ]
  },
  {
   "cell_type": "code",
   "execution_count": 17,
   "id": "29d28097",
   "metadata": {},
   "outputs": [],
   "source": [
    "data_directory = 'data'\n",
    "init_data_url = 'https://github.com/wodecki/datasets/blob/main/genres_classification/genres_mod.parquet?raw=true'\n",
    "cleaned_data_filename = 'processed_data.csv'"
   ]
  },
  {
   "cell_type": "markdown",
   "id": "f3b1e2c4",
   "metadata": {},
   "source": [
    "## If required - download environment packages"
   ]
  },
  {
   "cell_type": "code",
   "execution_count": 18,
   "id": "ad6a748d",
   "metadata": {},
   "outputs": [],
   "source": [
    "# !conda install pandas os pyarrow fastparquet"
   ]
  },
  {
   "cell_type": "markdown",
   "id": "fcbe3589",
   "metadata": {},
   "source": [
    "## Import libraries"
   ]
  },
  {
   "cell_type": "code",
   "execution_count": 19,
   "id": "5832c0ff",
   "metadata": {},
   "outputs": [],
   "source": [
    "import pandas as pd\n",
    "import numpy as np\n",
    "import os"
   ]
  },
  {
   "cell_type": "markdown",
   "id": "16033fbe",
   "metadata": {},
   "source": [
    "## Prepare folders"
   ]
  },
  {
   "cell_type": "code",
   "execution_count": 20,
   "id": "9901a503",
   "metadata": {},
   "outputs": [],
   "source": [
    "if not os.path.exists(data_directory):\n",
    "    os.makedirs(data_directory)"
   ]
  },
  {
   "cell_type": "markdown",
   "id": "53b9fd2c",
   "metadata": {},
   "source": [
    "## 1. Load data"
   ]
  },
  {
   "cell_type": "code",
   "execution_count": 21,
   "id": "0de7021f",
   "metadata": {},
   "outputs": [
    {
     "data": {
      "text/html": [
       "<div>\n",
       "<style scoped>\n",
       "    .dataframe tbody tr th:only-of-type {\n",
       "        vertical-align: middle;\n",
       "    }\n",
       "\n",
       "    .dataframe tbody tr th {\n",
       "        vertical-align: top;\n",
       "    }\n",
       "\n",
       "    .dataframe thead th {\n",
       "        text-align: right;\n",
       "    }\n",
       "</style>\n",
       "<table border=\"1\" class=\"dataframe\">\n",
       "  <thead>\n",
       "    <tr style=\"text-align: right;\">\n",
       "      <th></th>\n",
       "      <th>danceability</th>\n",
       "      <th>energy</th>\n",
       "      <th>key</th>\n",
       "      <th>loudness</th>\n",
       "      <th>mode</th>\n",
       "      <th>speechiness</th>\n",
       "      <th>acousticness</th>\n",
       "      <th>instrumentalness</th>\n",
       "      <th>liveness</th>\n",
       "      <th>valence</th>\n",
       "      <th>tempo</th>\n",
       "      <th>type</th>\n",
       "      <th>duration_ms</th>\n",
       "      <th>time_signature</th>\n",
       "      <th>genre</th>\n",
       "      <th>song_name</th>\n",
       "      <th>title</th>\n",
       "    </tr>\n",
       "  </thead>\n",
       "  <tbody>\n",
       "    <tr>\n",
       "      <th>4007</th>\n",
       "      <td>0.279</td>\n",
       "      <td>0.277</td>\n",
       "      <td>11</td>\n",
       "      <td>-17.168</td>\n",
       "      <td>0</td>\n",
       "      <td>0.0850</td>\n",
       "      <td>0.773000</td>\n",
       "      <td>0.9100</td>\n",
       "      <td>0.1380</td>\n",
       "      <td>0.0819</td>\n",
       "      <td>165.792</td>\n",
       "      <td>audio_features</td>\n",
       "      <td>259765</td>\n",
       "      <td>4</td>\n",
       "      <td>Dark Trap</td>\n",
       "      <td>Kenopsia</td>\n",
       "      <td>None</td>\n",
       "    </tr>\n",
       "    <tr>\n",
       "      <th>17352</th>\n",
       "      <td>0.735</td>\n",
       "      <td>0.482</td>\n",
       "      <td>8</td>\n",
       "      <td>-9.445</td>\n",
       "      <td>1</td>\n",
       "      <td>0.1390</td>\n",
       "      <td>0.006230</td>\n",
       "      <td>0.0144</td>\n",
       "      <td>0.4480</td>\n",
       "      <td>0.3150</td>\n",
       "      <td>181.995</td>\n",
       "      <td>audio_features</td>\n",
       "      <td>217933</td>\n",
       "      <td>4</td>\n",
       "      <td>RnB</td>\n",
       "      <td>In My Feelings</td>\n",
       "      <td>None</td>\n",
       "    </tr>\n",
       "    <tr>\n",
       "      <th>36462</th>\n",
       "      <td>0.560</td>\n",
       "      <td>0.943</td>\n",
       "      <td>1</td>\n",
       "      <td>-4.606</td>\n",
       "      <td>0</td>\n",
       "      <td>0.0800</td>\n",
       "      <td>0.001810</td>\n",
       "      <td>0.1510</td>\n",
       "      <td>0.0975</td>\n",
       "      <td>0.0382</td>\n",
       "      <td>174.034</td>\n",
       "      <td>audio_features</td>\n",
       "      <td>309306</td>\n",
       "      <td>4</td>\n",
       "      <td>dnb</td>\n",
       "      <td>None</td>\n",
       "      <td>Liquid Drum &amp; Bass</td>\n",
       "    </tr>\n",
       "    <tr>\n",
       "      <th>39486</th>\n",
       "      <td>0.228</td>\n",
       "      <td>0.843</td>\n",
       "      <td>11</td>\n",
       "      <td>-5.711</td>\n",
       "      <td>0</td>\n",
       "      <td>0.0818</td>\n",
       "      <td>0.297000</td>\n",
       "      <td>0.4240</td>\n",
       "      <td>0.0958</td>\n",
       "      <td>0.0423</td>\n",
       "      <td>149.692</td>\n",
       "      <td>audio_features</td>\n",
       "      <td>233600</td>\n",
       "      <td>4</td>\n",
       "      <td>hardstyle</td>\n",
       "      <td>None</td>\n",
       "      <td>Hardstyle by Q-dance</td>\n",
       "    </tr>\n",
       "    <tr>\n",
       "      <th>24223</th>\n",
       "      <td>0.805</td>\n",
       "      <td>0.943</td>\n",
       "      <td>11</td>\n",
       "      <td>-6.503</td>\n",
       "      <td>0</td>\n",
       "      <td>0.0563</td>\n",
       "      <td>0.000749</td>\n",
       "      <td>0.8680</td>\n",
       "      <td>0.6790</td>\n",
       "      <td>0.8560</td>\n",
       "      <td>126.000</td>\n",
       "      <td>audio_features</td>\n",
       "      <td>249545</td>\n",
       "      <td>4</td>\n",
       "      <td>techhouse</td>\n",
       "      <td>None</td>\n",
       "      <td>Dirtybird//Techhouse by Mack\\</td>\n",
       "    </tr>\n",
       "  </tbody>\n",
       "</table>\n",
       "</div>"
      ],
      "text/plain": [
       "       danceability  energy  key  loudness  mode  speechiness  acousticness  \\\n",
       "4007          0.279   0.277   11   -17.168     0       0.0850      0.773000   \n",
       "17352         0.735   0.482    8    -9.445     1       0.1390      0.006230   \n",
       "36462         0.560   0.943    1    -4.606     0       0.0800      0.001810   \n",
       "39486         0.228   0.843   11    -5.711     0       0.0818      0.297000   \n",
       "24223         0.805   0.943   11    -6.503     0       0.0563      0.000749   \n",
       "\n",
       "       instrumentalness  liveness  valence    tempo            type  \\\n",
       "4007             0.9100    0.1380   0.0819  165.792  audio_features   \n",
       "17352            0.0144    0.4480   0.3150  181.995  audio_features   \n",
       "36462            0.1510    0.0975   0.0382  174.034  audio_features   \n",
       "39486            0.4240    0.0958   0.0423  149.692  audio_features   \n",
       "24223            0.8680    0.6790   0.8560  126.000  audio_features   \n",
       "\n",
       "       duration_ms  time_signature      genre       song_name  \\\n",
       "4007        259765               4  Dark Trap        Kenopsia   \n",
       "17352       217933               4        RnB  In My Feelings   \n",
       "36462       309306               4        dnb            None   \n",
       "39486       233600               4  hardstyle            None   \n",
       "24223       249545               4  techhouse            None   \n",
       "\n",
       "                               title  \n",
       "4007                            None  \n",
       "17352                           None  \n",
       "36462             Liquid Drum & Bass  \n",
       "39486           Hardstyle by Q-dance  \n",
       "24223  Dirtybird//Techhouse by Mack\\  "
      ]
     },
     "execution_count": 21,
     "metadata": {},
     "output_type": "execute_result"
    }
   ],
   "source": [
    "df = pd.read_parquet(init_data_url)\n",
    "df.sample(5)"
   ]
  },
  {
   "cell_type": "markdown",
   "id": "ae8e9251",
   "metadata": {},
   "source": [
    "## Explore the data"
   ]
  },
  {
   "cell_type": "code",
   "execution_count": 22,
   "id": "5d8ceefa",
   "metadata": {},
   "outputs": [
    {
     "name": "stdout",
     "output_type": "stream",
     "text": [
      "\n",
      "Data has ['danceability' 'energy' 'key' 'loudness' 'mode' 'speechiness'\n",
      " 'acousticness' 'instrumentalness' 'liveness' 'valence' 'tempo' 'type'\n",
      " 'duration_ms' 'time_signature' 'genre' 'song_name' 'title'] columns and 42896 rows\n",
      "\n",
      " \n",
      "Data types:\n",
      "danceability        float64\n",
      "energy              float64\n",
      "key                   int64\n",
      "loudness            float64\n",
      "mode                  int64\n",
      "speechiness         float64\n",
      "acousticness        float64\n",
      "instrumentalness    float64\n",
      "liveness            float64\n",
      "valence             float64\n",
      "tempo               float64\n",
      "type                 object\n",
      "duration_ms           int64\n",
      "time_signature        int64\n",
      "genre                object\n",
      "song_name            object\n",
      "title                object\n",
      "dtype: object\n",
      "\n",
      "\n",
      "Data summary:\n",
      "       danceability        energy           key      loudness          mode  \\\n",
      "count  42896.000000  42896.000000  42896.000000  33726.000000  42896.000000   \n",
      "mean       0.639336      0.762560      5.368566     -6.463899      0.549492   \n",
      "std        0.156585      0.183691      3.664993      2.938171      0.497550   \n",
      "min        0.065100      0.000243      0.000000    -32.929000      0.000000   \n",
      "25%        0.524000      0.632000      1.000000     -8.165000      0.000000   \n",
      "50%        0.646000      0.803000      6.000000     -6.228500      1.000000   \n",
      "75%        0.766000      0.923000      9.000000     -4.520000      1.000000   \n",
      "max        0.988000      1.000000     11.000000      3.148000      1.000000   \n",
      "\n",
      "        speechiness  acousticness  instrumentalness      liveness  \\\n",
      "count  42896.000000  42896.000000      42896.000000  42896.000000   \n",
      "mean       0.136446      0.096260          0.283229      0.214080   \n",
      "std        0.125976      0.170843          0.370810      0.175463   \n",
      "min        0.022700      0.000001          0.000000      0.010700   \n",
      "25%        0.049100      0.001730          0.000000      0.099600   \n",
      "50%        0.075400      0.016400          0.005960      0.135000   \n",
      "75%        0.193000      0.107000          0.722000      0.294000   \n",
      "max        0.946000      0.988000          0.989000      0.988000   \n",
      "\n",
      "            valence         tempo    duration_ms  time_signature  \n",
      "count  42896.000000  42896.000000   42896.000000    42896.000000  \n",
      "mean       0.357170    147.492086  250913.573317        3.972935  \n",
      "std        0.233255     23.861654  102979.762389        0.267682  \n",
      "min        0.018700     57.967000   25600.000000        1.000000  \n",
      "25%        0.161000    129.918750  179971.250000        4.000000  \n",
      "50%        0.322000    144.970500  224663.000000        4.000000  \n",
      "75%        0.522000    161.597500  301288.500000        4.000000  \n",
      "max        0.988000    220.290000  913052.000000        5.000000  \n"
     ]
    }
   ],
   "source": [
    "print('''\n",
    "Data has {} columns and {} rows\\n\\n \n",
    "Data types:\\n{}\\n\\n\n",
    "Data summary:\\n{}'''\n",
    ".format(df.columns.values, df.shape[0], df.dtypes, df.describe()))"
   ]
  },
  {
   "cell_type": "code",
   "execution_count": 23,
   "id": "00042939",
   "metadata": {},
   "outputs": [
    {
     "data": {
      "text/plain": [
       "danceability            0\n",
       "energy                  0\n",
       "key                     0\n",
       "loudness             9170\n",
       "mode                    0\n",
       "speechiness             0\n",
       "acousticness            0\n",
       "instrumentalness        0\n",
       "liveness                0\n",
       "valence                 0\n",
       "tempo                   0\n",
       "type                    0\n",
       "duration_ms             0\n",
       "time_signature          0\n",
       "genre                   0\n",
       "song_name           21085\n",
       "title               21817\n",
       "dtype: int64"
      ]
     },
     "execution_count": 23,
     "metadata": {},
     "output_type": "execute_result"
    }
   ],
   "source": [
    "df.isnull().sum()\n",
    "# We can ommit empty song name and titles and fill this with empty values as they are not a part of our analysis.\n",
    "# It does not provide any value to our case."
   ]
  },
  {
   "cell_type": "markdown",
   "id": "7ad7612c",
   "metadata": {},
   "source": [
    "## Data cleansing"
   ]
  },
  {
   "cell_type": "code",
   "execution_count": 24,
   "id": "2af0d985",
   "metadata": {},
   "outputs": [
    {
     "name": "stdout",
     "output_type": "stream",
     "text": [
      "Number of rows before cleansing: 729232\n"
     ]
    }
   ],
   "source": [
    "df_clean = df.copy()\n",
    "print('Number of rows before cleansing: {}'.format(df_clean.size))"
   ]
  },
  {
   "cell_type": "markdown",
   "id": "a53447d7",
   "metadata": {},
   "source": [
    "### Deduplication"
   ]
  },
  {
   "cell_type": "code",
   "execution_count": 25,
   "id": "fc0e62db",
   "metadata": {},
   "outputs": [
    {
     "name": "stdout",
     "output_type": "stream",
     "text": [
      "Data size before deduplication: 42896\n",
      "Data size after deduplication: 41975\n"
     ]
    }
   ],
   "source": [
    "print('Data size before deduplication: {}'.format(df_clean.shape[0]))\n",
    "df_clean = df_clean.drop_duplicates().reset_index(drop=True)\n",
    "print('Data size after deduplication: {}'.format(df_clean.shape[0]))"
   ]
  },
  {
   "cell_type": "markdown",
   "id": "04cede55",
   "metadata": {},
   "source": [
    "### Handle NaN values"
   ]
  },
  {
   "cell_type": "code",
   "execution_count": 26,
   "id": "de1fe444",
   "metadata": {},
   "outputs": [
    {
     "name": "stdout",
     "output_type": "stream",
     "text": [
      "Number of NaN titles before replacement: 21240\n",
      "Number of NaN titles after replacement: 0\n"
     ]
    }
   ],
   "source": [
    "print('Number of NaN titles before replacement: {}'.format(df_clean['title'].isnull().sum()))\n",
    "df_clean['title'].fillna(value='', inplace=True)\n",
    "print('Number of NaN titles after replacement: {}'.format(df_clean['title'].isnull().sum()))"
   ]
  },
  {
   "cell_type": "code",
   "execution_count": 27,
   "id": "5f857f24",
   "metadata": {},
   "outputs": [
    {
     "name": "stdout",
     "output_type": "stream",
     "text": [
      "Number of NaN song names before replacement: 20741\n",
      "Number of NaN song names after replacement: 0\n"
     ]
    }
   ],
   "source": [
    "print('Number of NaN song names before replacement: {}'.format(df_clean['song_name'].isnull().sum()))\n",
    "df_clean['song_name'].fillna(value='', inplace=True)\n",
    "print('Number of NaN song names after replacement: {}'.format(df_clean['song_name'].isnull().sum()))"
   ]
  },
  {
   "cell_type": "code",
   "execution_count": 28,
   "id": "b3f79b06",
   "metadata": {},
   "outputs": [
    {
     "name": "stdout",
     "output_type": "stream",
     "text": [
      "Number of NaN loudness before replacement: 9007\n",
      "Number of NaN loudness after replacement: 0\n"
     ]
    }
   ],
   "source": [
    "loudness_median = df_clean['loudness'].median()\n",
    "\n",
    "print('Number of NaN loudness before replacement: {}'.format(df_clean['loudness'].isnull().sum()))\n",
    "df_clean['loudness'].fillna(value=loudness_median, inplace=True)\n",
    "print('Number of NaN loudness after replacement: {}'.format(df_clean['loudness'].isnull().sum()))"
   ]
  },
  {
   "cell_type": "code",
   "execution_count": 29,
   "id": "3282fdeb",
   "metadata": {},
   "outputs": [
    {
     "name": "stdout",
     "output_type": "stream",
     "text": [
      "danceability        0\n",
      "energy              0\n",
      "key                 0\n",
      "loudness            0\n",
      "mode                0\n",
      "speechiness         0\n",
      "acousticness        0\n",
      "instrumentalness    0\n",
      "liveness            0\n",
      "valence             0\n",
      "tempo               0\n",
      "type                0\n",
      "duration_ms         0\n",
      "time_signature      0\n",
      "genre               0\n",
      "song_name           0\n",
      "title               0\n",
      "dtype: int64\n",
      "(41975, 17)\n"
     ]
    }
   ],
   "source": [
    "print(df_clean.isnull().sum())\n",
    "print(df_clean.shape)"
   ]
  },
  {
   "cell_type": "markdown",
   "id": "6b933aa5",
   "metadata": {},
   "source": [
    "## Feature engineering"
   ]
  },
  {
   "cell_type": "code",
   "execution_count": 30,
   "id": "a06ad818",
   "metadata": {},
   "outputs": [],
   "source": [
    "df_clean['text_feature'] = df_clean['title'] + ' ' + df_clean['song_name']"
   ]
  },
  {
   "cell_type": "markdown",
   "id": "d765e502",
   "metadata": {},
   "source": [
    "## Save cleaned data"
   ]
  },
  {
   "cell_type": "markdown",
   "id": "03f0e51c",
   "metadata": {},
   "source": [
    "### Compare data dimensionality"
   ]
  },
  {
   "cell_type": "code",
   "execution_count": 31,
   "id": "a63941a4",
   "metadata": {},
   "outputs": [
    {
     "name": "stdout",
     "output_type": "stream",
     "text": [
      "Data before: (42896, 17)\n",
      "Data after: (41975, 18)\n"
     ]
    }
   ],
   "source": [
    "print('Data before: {}\\nData after: {}'.format(df.shape, df_clean.shape))"
   ]
  },
  {
   "cell_type": "code",
   "execution_count": 32,
   "id": "801747f1",
   "metadata": {},
   "outputs": [],
   "source": [
    "data_file = os.path.join(data_directory, cleaned_data_filename)\n",
    "df_clean.to_csv(data_file, index=False)"
   ]
  },
  {
   "cell_type": "code",
   "execution_count": 33,
   "id": "8d7d3242",
   "metadata": {},
   "outputs": [
    {
     "data": {
      "text/html": [
       "<div>\n",
       "<style scoped>\n",
       "    .dataframe tbody tr th:only-of-type {\n",
       "        vertical-align: middle;\n",
       "    }\n",
       "\n",
       "    .dataframe tbody tr th {\n",
       "        vertical-align: top;\n",
       "    }\n",
       "\n",
       "    .dataframe thead th {\n",
       "        text-align: right;\n",
       "    }\n",
       "</style>\n",
       "<table border=\"1\" class=\"dataframe\">\n",
       "  <thead>\n",
       "    <tr style=\"text-align: right;\">\n",
       "      <th></th>\n",
       "      <th>danceability</th>\n",
       "      <th>energy</th>\n",
       "      <th>key</th>\n",
       "      <th>loudness</th>\n",
       "      <th>mode</th>\n",
       "      <th>speechiness</th>\n",
       "      <th>acousticness</th>\n",
       "      <th>instrumentalness</th>\n",
       "      <th>liveness</th>\n",
       "      <th>valence</th>\n",
       "      <th>tempo</th>\n",
       "      <th>duration_ms</th>\n",
       "      <th>time_signature</th>\n",
       "    </tr>\n",
       "  </thead>\n",
       "  <tbody>\n",
       "    <tr>\n",
       "      <th>count</th>\n",
       "      <td>41975.000000</td>\n",
       "      <td>41975.000000</td>\n",
       "      <td>41975.000000</td>\n",
       "      <td>41975.000000</td>\n",
       "      <td>41975.000000</td>\n",
       "      <td>41975.000000</td>\n",
       "      <td>41975.000000</td>\n",
       "      <td>41975.000000</td>\n",
       "      <td>41975.000000</td>\n",
       "      <td>41975.000000</td>\n",
       "      <td>41975.00000</td>\n",
       "      <td>41975.000000</td>\n",
       "      <td>41975.000000</td>\n",
       "    </tr>\n",
       "    <tr>\n",
       "      <th>mean</th>\n",
       "      <td>0.639380</td>\n",
       "      <td>0.762855</td>\n",
       "      <td>5.371674</td>\n",
       "      <td>-6.418807</td>\n",
       "      <td>0.549184</td>\n",
       "      <td>0.136440</td>\n",
       "      <td>0.095894</td>\n",
       "      <td>0.284569</td>\n",
       "      <td>0.214190</td>\n",
       "      <td>0.356520</td>\n",
       "      <td>147.42499</td>\n",
       "      <td>251211.483240</td>\n",
       "      <td>3.972555</td>\n",
       "    </tr>\n",
       "    <tr>\n",
       "      <th>std</th>\n",
       "      <td>0.156495</td>\n",
       "      <td>0.183793</td>\n",
       "      <td>3.666697</td>\n",
       "      <td>2.609506</td>\n",
       "      <td>0.497581</td>\n",
       "      <td>0.126124</td>\n",
       "      <td>0.170647</td>\n",
       "      <td>0.371246</td>\n",
       "      <td>0.175699</td>\n",
       "      <td>0.233086</td>\n",
       "      <td>23.79437</td>\n",
       "      <td>103140.264753</td>\n",
       "      <td>0.268073</td>\n",
       "    </tr>\n",
       "    <tr>\n",
       "      <th>min</th>\n",
       "      <td>0.065100</td>\n",
       "      <td>0.000243</td>\n",
       "      <td>0.000000</td>\n",
       "      <td>-32.929000</td>\n",
       "      <td>0.000000</td>\n",
       "      <td>0.022700</td>\n",
       "      <td>0.000001</td>\n",
       "      <td>0.000000</td>\n",
       "      <td>0.010700</td>\n",
       "      <td>0.018700</td>\n",
       "      <td>57.96700</td>\n",
       "      <td>25600.000000</td>\n",
       "      <td>1.000000</td>\n",
       "    </tr>\n",
       "    <tr>\n",
       "      <th>25%</th>\n",
       "      <td>0.524000</td>\n",
       "      <td>0.632000</td>\n",
       "      <td>1.000000</td>\n",
       "      <td>-7.559000</td>\n",
       "      <td>0.000000</td>\n",
       "      <td>0.049100</td>\n",
       "      <td>0.001720</td>\n",
       "      <td>0.000000</td>\n",
       "      <td>0.099600</td>\n",
       "      <td>0.161000</td>\n",
       "      <td>129.91550</td>\n",
       "      <td>179998.000000</td>\n",
       "      <td>4.000000</td>\n",
       "    </tr>\n",
       "    <tr>\n",
       "      <th>50%</th>\n",
       "      <td>0.646000</td>\n",
       "      <td>0.804000</td>\n",
       "      <td>6.000000</td>\n",
       "      <td>-6.235000</td>\n",
       "      <td>1.000000</td>\n",
       "      <td>0.075400</td>\n",
       "      <td>0.016300</td>\n",
       "      <td>0.006450</td>\n",
       "      <td>0.135000</td>\n",
       "      <td>0.321000</td>\n",
       "      <td>144.96200</td>\n",
       "      <td>224951.000000</td>\n",
       "      <td>4.000000</td>\n",
       "    </tr>\n",
       "    <tr>\n",
       "      <th>75%</th>\n",
       "      <td>0.766000</td>\n",
       "      <td>0.923000</td>\n",
       "      <td>9.000000</td>\n",
       "      <td>-5.045500</td>\n",
       "      <td>1.000000</td>\n",
       "      <td>0.193000</td>\n",
       "      <td>0.106000</td>\n",
       "      <td>0.725000</td>\n",
       "      <td>0.294500</td>\n",
       "      <td>0.521000</td>\n",
       "      <td>160.97600</td>\n",
       "      <td>302013.000000</td>\n",
       "      <td>4.000000</td>\n",
       "    </tr>\n",
       "    <tr>\n",
       "      <th>max</th>\n",
       "      <td>0.988000</td>\n",
       "      <td>1.000000</td>\n",
       "      <td>11.000000</td>\n",
       "      <td>3.148000</td>\n",
       "      <td>1.000000</td>\n",
       "      <td>0.946000</td>\n",
       "      <td>0.988000</td>\n",
       "      <td>0.989000</td>\n",
       "      <td>0.988000</td>\n",
       "      <td>0.988000</td>\n",
       "      <td>220.29000</td>\n",
       "      <td>913052.000000</td>\n",
       "      <td>5.000000</td>\n",
       "    </tr>\n",
       "  </tbody>\n",
       "</table>\n",
       "</div>"
      ],
      "text/plain": [
       "       danceability        energy           key      loudness          mode  \\\n",
       "count  41975.000000  41975.000000  41975.000000  41975.000000  41975.000000   \n",
       "mean       0.639380      0.762855      5.371674     -6.418807      0.549184   \n",
       "std        0.156495      0.183793      3.666697      2.609506      0.497581   \n",
       "min        0.065100      0.000243      0.000000    -32.929000      0.000000   \n",
       "25%        0.524000      0.632000      1.000000     -7.559000      0.000000   \n",
       "50%        0.646000      0.804000      6.000000     -6.235000      1.000000   \n",
       "75%        0.766000      0.923000      9.000000     -5.045500      1.000000   \n",
       "max        0.988000      1.000000     11.000000      3.148000      1.000000   \n",
       "\n",
       "        speechiness  acousticness  instrumentalness      liveness  \\\n",
       "count  41975.000000  41975.000000      41975.000000  41975.000000   \n",
       "mean       0.136440      0.095894          0.284569      0.214190   \n",
       "std        0.126124      0.170647          0.371246      0.175699   \n",
       "min        0.022700      0.000001          0.000000      0.010700   \n",
       "25%        0.049100      0.001720          0.000000      0.099600   \n",
       "50%        0.075400      0.016300          0.006450      0.135000   \n",
       "75%        0.193000      0.106000          0.725000      0.294500   \n",
       "max        0.946000      0.988000          0.989000      0.988000   \n",
       "\n",
       "            valence        tempo    duration_ms  time_signature  \n",
       "count  41975.000000  41975.00000   41975.000000    41975.000000  \n",
       "mean       0.356520    147.42499  251211.483240        3.972555  \n",
       "std        0.233086     23.79437  103140.264753        0.268073  \n",
       "min        0.018700     57.96700   25600.000000        1.000000  \n",
       "25%        0.161000    129.91550  179998.000000        4.000000  \n",
       "50%        0.321000    144.96200  224951.000000        4.000000  \n",
       "75%        0.521000    160.97600  302013.000000        4.000000  \n",
       "max        0.988000    220.29000  913052.000000        5.000000  "
      ]
     },
     "execution_count": 33,
     "metadata": {},
     "output_type": "execute_result"
    }
   ],
   "source": [
    "df_clean.describe()"
   ]
  },
  {
   "cell_type": "code",
   "execution_count": null,
   "id": "c6f00fc6",
   "metadata": {},
   "outputs": [],
   "source": []
  }
 ],
 "metadata": {
  "kernelspec": {
   "display_name": "Python 3 (ipykernel)",
   "language": "python",
   "name": "python3"
  },
  "language_info": {
   "codemirror_mode": {
    "name": "ipython",
    "version": 3
   },
   "file_extension": ".py",
   "mimetype": "text/x-python",
   "name": "python",
   "nbconvert_exporter": "python",
   "pygments_lexer": "ipython3",
   "version": "3.8.12"
  }
 },
 "nbformat": 4,
 "nbformat_minor": 5
}
