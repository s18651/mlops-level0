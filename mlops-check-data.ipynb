{
 "cells": [
  {
   "cell_type": "markdown",
   "id": "abd897a2",
   "metadata": {},
   "source": [
    "# Additional cleaned data checks"
   ]
  },
  {
   "cell_type": "markdown",
   "id": "36852898",
   "metadata": {},
   "source": [
    "## Import libraries"
   ]
  },
  {
   "cell_type": "code",
   "execution_count": 61,
   "id": "dbf41b6f",
   "metadata": {},
   "outputs": [],
   "source": [
    "import pandas as pd\n",
    "import scipy.stats\n",
    "from sklearn.model_selection import train_test_split"
   ]
  },
  {
   "cell_type": "markdown",
   "id": "6e84cc8d",
   "metadata": {},
   "source": [
    "## Read the data"
   ]
  },
  {
   "cell_type": "code",
   "execution_count": 62,
   "id": "190cd6b3",
   "metadata": {
    "scrolled": true
   },
   "outputs": [
    {
     "data": {
      "text/html": [
       "<div>\n",
       "<style scoped>\n",
       "    .dataframe tbody tr th:only-of-type {\n",
       "        vertical-align: middle;\n",
       "    }\n",
       "\n",
       "    .dataframe tbody tr th {\n",
       "        vertical-align: top;\n",
       "    }\n",
       "\n",
       "    .dataframe thead th {\n",
       "        text-align: right;\n",
       "    }\n",
       "</style>\n",
       "<table border=\"1\" class=\"dataframe\">\n",
       "  <thead>\n",
       "    <tr style=\"text-align: right;\">\n",
       "      <th></th>\n",
       "      <th>danceability</th>\n",
       "      <th>energy</th>\n",
       "      <th>key</th>\n",
       "      <th>loudness</th>\n",
       "      <th>mode</th>\n",
       "      <th>speechiness</th>\n",
       "      <th>acousticness</th>\n",
       "      <th>instrumentalness</th>\n",
       "      <th>liveness</th>\n",
       "      <th>valence</th>\n",
       "      <th>tempo</th>\n",
       "      <th>type</th>\n",
       "      <th>duration_ms</th>\n",
       "      <th>time_signature</th>\n",
       "      <th>genre</th>\n",
       "      <th>song_name</th>\n",
       "      <th>title</th>\n",
       "      <th>text_feature</th>\n",
       "    </tr>\n",
       "  </thead>\n",
       "  <tbody>\n",
       "    <tr>\n",
       "      <th>4203</th>\n",
       "      <td>0.814</td>\n",
       "      <td>0.483</td>\n",
       "      <td>1</td>\n",
       "      <td>-6.235</td>\n",
       "      <td>0</td>\n",
       "      <td>0.0415</td>\n",
       "      <td>0.00774</td>\n",
       "      <td>0.00679</td>\n",
       "      <td>0.2600</td>\n",
       "      <td>0.265</td>\n",
       "      <td>114.030</td>\n",
       "      <td>audio_features</td>\n",
       "      <td>134748</td>\n",
       "      <td>3</td>\n",
       "      <td>Dark Trap</td>\n",
       "      <td>Banana Clip</td>\n",
       "      <td>NaN</td>\n",
       "      <td>Banana Clip</td>\n",
       "    </tr>\n",
       "    <tr>\n",
       "      <th>35817</th>\n",
       "      <td>0.636</td>\n",
       "      <td>0.993</td>\n",
       "      <td>10</td>\n",
       "      <td>-2.543</td>\n",
       "      <td>0</td>\n",
       "      <td>0.4880</td>\n",
       "      <td>0.01020</td>\n",
       "      <td>0.24700</td>\n",
       "      <td>0.0441</td>\n",
       "      <td>0.530</td>\n",
       "      <td>149.774</td>\n",
       "      <td>audio_features</td>\n",
       "      <td>232842</td>\n",
       "      <td>4</td>\n",
       "      <td>trap</td>\n",
       "      <td>NaN</td>\n",
       "      <td>I'm a fucking Headbanger</td>\n",
       "      <td>I'm a fucking Headbanger</td>\n",
       "    </tr>\n",
       "    <tr>\n",
       "      <th>15983</th>\n",
       "      <td>0.440</td>\n",
       "      <td>0.727</td>\n",
       "      <td>11</td>\n",
       "      <td>-7.336</td>\n",
       "      <td>1</td>\n",
       "      <td>0.2120</td>\n",
       "      <td>0.05220</td>\n",
       "      <td>0.00000</td>\n",
       "      <td>0.1030</td>\n",
       "      <td>0.653</td>\n",
       "      <td>179.990</td>\n",
       "      <td>audio_features</td>\n",
       "      <td>192333</td>\n",
       "      <td>4</td>\n",
       "      <td>RnB</td>\n",
       "      <td>That's My</td>\n",
       "      <td>NaN</td>\n",
       "      <td>That's My</td>\n",
       "    </tr>\n",
       "    <tr>\n",
       "      <th>13375</th>\n",
       "      <td>0.509</td>\n",
       "      <td>0.930</td>\n",
       "      <td>0</td>\n",
       "      <td>-6.235</td>\n",
       "      <td>0</td>\n",
       "      <td>0.0474</td>\n",
       "      <td>0.00137</td>\n",
       "      <td>0.00000</td>\n",
       "      <td>0.1520</td>\n",
       "      <td>0.783</td>\n",
       "      <td>154.950</td>\n",
       "      <td>audio_features</td>\n",
       "      <td>149640</td>\n",
       "      <td>4</td>\n",
       "      <td>Emo</td>\n",
       "      <td>False Pretense</td>\n",
       "      <td>NaN</td>\n",
       "      <td>False Pretense</td>\n",
       "    </tr>\n",
       "    <tr>\n",
       "      <th>4666</th>\n",
       "      <td>0.476</td>\n",
       "      <td>0.781</td>\n",
       "      <td>0</td>\n",
       "      <td>-4.710</td>\n",
       "      <td>1</td>\n",
       "      <td>0.1030</td>\n",
       "      <td>0.02370</td>\n",
       "      <td>0.00000</td>\n",
       "      <td>0.1140</td>\n",
       "      <td>0.175</td>\n",
       "      <td>186.948</td>\n",
       "      <td>audio_features</td>\n",
       "      <td>123661</td>\n",
       "      <td>3</td>\n",
       "      <td>Underground Rap</td>\n",
       "      <td>ProductOfDrugs (Prod. The Virus and Antidote)</td>\n",
       "      <td>NaN</td>\n",
       "      <td>ProductOfDrugs (Prod. The Virus and Antidote)</td>\n",
       "    </tr>\n",
       "  </tbody>\n",
       "</table>\n",
       "</div>"
      ],
      "text/plain": [
       "       danceability  energy  key  loudness  mode  speechiness  acousticness  \\\n",
       "4203          0.814   0.483    1    -6.235     0       0.0415       0.00774   \n",
       "35817         0.636   0.993   10    -2.543     0       0.4880       0.01020   \n",
       "15983         0.440   0.727   11    -7.336     1       0.2120       0.05220   \n",
       "13375         0.509   0.930    0    -6.235     0       0.0474       0.00137   \n",
       "4666          0.476   0.781    0    -4.710     1       0.1030       0.02370   \n",
       "\n",
       "       instrumentalness  liveness  valence    tempo            type  \\\n",
       "4203            0.00679    0.2600    0.265  114.030  audio_features   \n",
       "35817           0.24700    0.0441    0.530  149.774  audio_features   \n",
       "15983           0.00000    0.1030    0.653  179.990  audio_features   \n",
       "13375           0.00000    0.1520    0.783  154.950  audio_features   \n",
       "4666            0.00000    0.1140    0.175  186.948  audio_features   \n",
       "\n",
       "       duration_ms  time_signature            genre  \\\n",
       "4203        134748               3        Dark Trap   \n",
       "35817       232842               4             trap   \n",
       "15983       192333               4              RnB   \n",
       "13375       149640               4              Emo   \n",
       "4666        123661               3  Underground Rap   \n",
       "\n",
       "                                           song_name  \\\n",
       "4203                                     Banana Clip   \n",
       "35817                                            NaN   \n",
       "15983                                      That's My   \n",
       "13375                                 False Pretense   \n",
       "4666   ProductOfDrugs (Prod. The Virus and Antidote)   \n",
       "\n",
       "                          title  \\\n",
       "4203                        NaN   \n",
       "35817  I'm a fucking Headbanger   \n",
       "15983                       NaN   \n",
       "13375                       NaN   \n",
       "4666                        NaN   \n",
       "\n",
       "                                         text_feature  \n",
       "4203                                      Banana Clip  \n",
       "35817                       I'm a fucking Headbanger   \n",
       "15983                                       That's My  \n",
       "13375                                  False Pretense  \n",
       "4666    ProductOfDrugs (Prod. The Virus and Antidote)  "
      ]
     },
     "execution_count": 62,
     "metadata": {},
     "output_type": "execute_result"
    }
   ],
   "source": [
    "df = pd.read_csv(\"data/processed_data.csv\", low_memory=False)\n",
    "df.sample(5)"
   ]
  },
  {
   "cell_type": "markdown",
   "id": "ecd8f2c3",
   "metadata": {},
   "source": [
    "## Explore the data"
   ]
  },
  {
   "cell_type": "code",
   "execution_count": 63,
   "id": "b6ee75dc",
   "metadata": {
    "scrolled": true
   },
   "outputs": [
    {
     "name": "stdout",
     "output_type": "stream",
     "text": [
      "<class 'pandas.core.frame.DataFrame'>\n",
      "RangeIndex: 41975 entries, 0 to 41974\n",
      "Data columns (total 18 columns):\n",
      " #   Column            Non-Null Count  Dtype  \n",
      "---  ------            --------------  -----  \n",
      " 0   danceability      41975 non-null  float64\n",
      " 1   energy            41975 non-null  float64\n",
      " 2   key               41975 non-null  int64  \n",
      " 3   loudness          41975 non-null  float64\n",
      " 4   mode              41975 non-null  int64  \n",
      " 5   speechiness       41975 non-null  float64\n",
      " 6   acousticness      41975 non-null  float64\n",
      " 7   instrumentalness  41975 non-null  float64\n",
      " 8   liveness          41975 non-null  float64\n",
      " 9   valence           41975 non-null  float64\n",
      " 10  tempo             41975 non-null  float64\n",
      " 11  type              41975 non-null  object \n",
      " 12  duration_ms       41975 non-null  int64  \n",
      " 13  time_signature    41975 non-null  int64  \n",
      " 14  genre             41975 non-null  object \n",
      " 15  song_name         21234 non-null  object \n",
      " 16  title             20735 non-null  object \n",
      " 17  text_feature      41975 non-null  object \n",
      "dtypes: float64(9), int64(4), object(5)\n",
      "memory usage: 5.8+ MB\n"
     ]
    }
   ],
   "source": [
    "df.info()"
   ]
  },
  {
   "cell_type": "markdown",
   "id": "eca9b1d8",
   "metadata": {},
   "source": [
    "## Define and assert data quality"
   ]
  },
  {
   "cell_type": "markdown",
   "id": "3fd1f527",
   "metadata": {},
   "source": [
    "### Check for required columns and their types"
   ]
  },
  {
   "cell_type": "code",
   "execution_count": 64,
   "id": "a766be8c",
   "metadata": {},
   "outputs": [],
   "source": [
    "def test_column_presence_and_type(data):\n",
    "\n",
    "    required_columns = {\n",
    "        \"time_signature\":   pd.api.types.is_integer_dtype,\n",
    "        \"key\":              pd.api.types.is_integer_dtype,\n",
    "        \"danceability\":     pd.api.types.is_float_dtype,\n",
    "        \"energy\":           pd.api.types.is_float_dtype,\n",
    "        \"loudness\":         pd.api.types.is_float_dtype,\n",
    "        \"speechiness\":      pd.api.types.is_float_dtype,\n",
    "        \"acousticness\":     pd.api.types.is_float_dtype,\n",
    "        \"instrumentalness\": pd.api.types.is_float_dtype,\n",
    "        \"liveness\":         pd.api.types.is_float_dtype,\n",
    "        \"valence\":          pd.api.types.is_float_dtype,\n",
    "        \"tempo\":            pd.api.types.is_float_dtype,\n",
    "        \"duration_ms\":      pd.api.types.is_integer_dtype,\n",
    "        \"text_feature\":     pd.api.types.is_string_dtype,\n",
    "        \"genre\":            pd.api.types.is_string_dtype\n",
    "    }\n",
    "    \n",
    "    assert set(data.columns.values).issuperset(set(required_columns.keys()))\n",
    "    \n",
    "    for col_name, format_verification_funct in required_columns.items():\n",
    "        assert format_verification_funct(data[col_name]), \\\n",
    "        f\"Column {col_name} failed test {format_verification_funct}\""
   ]
  },
  {
   "cell_type": "markdown",
   "id": "4d8d9c4f",
   "metadata": {},
   "source": [
    "### Check for known genres "
   ]
  },
  {
   "cell_type": "code",
   "execution_count": 65,
   "id": "30b0d841",
   "metadata": {},
   "outputs": [],
   "source": [
    "def test_genres(data):\n",
    "    \n",
    "    known_genres = [\n",
    "        \"Dark Trap\",\n",
    "        \"Underground Rap\",\n",
    "        \"Trap Metal\",\n",
    "        \"Emo\",\n",
    "        \"Rap\",\n",
    "        \"RnB\",\n",
    "        \"Pop\",\n",
    "        \"Hiphop\",\n",
    "        \"techhouse\",\n",
    "        \"techno\",\n",
    "        \"trance\",\n",
    "        \"psytrance\",\n",
    "        \"trap\",\n",
    "        \"dnb\",\n",
    "        \"hardstyle\"\n",
    "    ]\n",
    "    \n",
    "    assert data[\"genre\"].isin(known_genres).all()"
   ]
  },
  {
   "cell_type": "markdown",
   "id": "ec3030bc",
   "metadata": {},
   "source": [
    "### Check for column ranges"
   ]
  },
  {
   "cell_type": "code",
   "execution_count": 66,
   "id": "49810914",
   "metadata": {},
   "outputs": [],
   "source": [
    "def test_column_ranges(data):\n",
    "    \n",
    "    column_ranges = {\n",
    "        \"time_signature\": (1, 5),\n",
    "        \"key\": (0, 11),\n",
    "        \"danceability\": (0, 1),\n",
    "        \"energy\": (0, 1),\n",
    "        \"loudness\": (-35, 5),\n",
    "        \"speechiness\": (0, 1),\n",
    "        \"acousticness\": (0, 1),\n",
    "        \"instrumentalness\": (0, 1),\n",
    "        \"liveness\": (0, 1),\n",
    "        \"valence\": (0, 1),\n",
    "        \"tempo\": (50, 250),\n",
    "        \"duration_ms\": (20000, 1000000)\n",
    "    }\n",
    "    \n",
    "    for col_name, (minimum, maximum) in column_ranges.items():\n",
    "        assert data[col_name].dropna().between(minimum, maximum).all(), (\n",
    "            f\"Column {col_name} failed the test. Should be between {minimum} and {maximum}, \"\n",
    "            f\"instead min={data[col_name].min()} and max={data[col_name].max()}\" \n",
    "        )"
   ]
  },
  {
   "cell_type": "markdown",
   "id": "4fa87e34",
   "metadata": {},
   "source": [
    "### Kolmogorov-Smirnov test"
   ]
  },
  {
   "cell_type": "code",
   "execution_count": 67,
   "id": "ae7b1b25",
   "metadata": {},
   "outputs": [],
   "source": [
    "# Check for correct data distribution\n",
    "\n",
    "def test_kolmogorov_smirnov(data, ks_alpha):\n",
    "    sample1, sample2 = train_test_split(df, test_size=0.5) # split data into 2 samples\n",
    "    \n",
    "    columns = [\n",
    "        \"danceability\",\n",
    "        \"energy\",\n",
    "        \"loudness\",\n",
    "        \"speechiness\",\n",
    "        \"acousticness\",\n",
    "        \"instrumentalness\",\n",
    "        \"liveness\",\n",
    "        \"valence\",\n",
    "        \"tempo\",\n",
    "        \"duration_ms\"\n",
    "    ]\n",
    "    \n",
    "    # Bonferroni correction for multiple hypothesis testing\n",
    "    # See more: https://towardsdatascience.com/precision-and-recall-trade-off-and-multiple-hypothesis-testing-family-wise-error-rate-vs-false-71a85057ca2b)\n",
    "    alpha_prime = 1 - (1 - ks_alpha)**(1 / len(columns))\n",
    "    \n",
    "    for col in columns:\n",
    "        ts, p_value = scipy.stats.ks_2samp(sample1[col], sample2[col])\n",
    "        \n",
    "        # NOTE: as always, the p-value should be interpreted as the probability of\n",
    "        # obtaining a test statistic (TS) equal or more extreme that the one we got\n",
    "        # by chance, when the null hypothesis is true. If this probability is not\n",
    "        # large enough, this dataset should be looked at carefully, hence we fail\n",
    "        \n",
    "        assert p_value > alpha_prime"
   ]
  },
  {
   "cell_type": "code",
   "execution_count": 68,
   "id": "ef9d0fc5",
   "metadata": {},
   "outputs": [],
   "source": [
    "test_column_presence_and_type(df)"
   ]
  },
  {
   "cell_type": "code",
   "execution_count": 70,
   "id": "65370646",
   "metadata": {},
   "outputs": [],
   "source": [
    "test_genres(df)"
   ]
  },
  {
   "cell_type": "code",
   "execution_count": 71,
   "id": "9a4ddd91",
   "metadata": {},
   "outputs": [],
   "source": [
    "test_column_ranges(df)"
   ]
  },
  {
   "cell_type": "code",
   "execution_count": 73,
   "id": "4696f484",
   "metadata": {},
   "outputs": [],
   "source": [
    "ks_alpha = 0.05\n",
    "test_kolmogorov_smirnov(df, ks_alpha)"
   ]
  },
  {
   "cell_type": "code",
   "execution_count": 74,
   "id": "5a7b6c94",
   "metadata": {},
   "outputs": [],
   "source": [
    "# If none of the tests thrown any error they passed"
   ]
  },
  {
   "cell_type": "code",
   "execution_count": null,
   "id": "c41a1c34",
   "metadata": {},
   "outputs": [],
   "source": []
  }
 ],
 "metadata": {
  "kernelspec": {
   "display_name": "Python 3 (ipykernel)",
   "language": "python",
   "name": "python3"
  },
  "language_info": {
   "codemirror_mode": {
    "name": "ipython",
    "version": 3
   },
   "file_extension": ".py",
   "mimetype": "text/x-python",
   "name": "python",
   "nbconvert_exporter": "python",
   "pygments_lexer": "ipython3",
   "version": "3.8.12"
  }
 },
 "nbformat": 4,
 "nbformat_minor": 5
}
